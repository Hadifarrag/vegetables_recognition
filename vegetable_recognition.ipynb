{
  "nbformat": 4,
  "nbformat_minor": 0,
  "metadata": {
    "colab": {
      "provenance": [],
      "machine_shape": "hm",
      "gpuType": "V28"
    },
    "kernelspec": {
      "name": "python3",
      "display_name": "Python 3"
    },
    "language_info": {
      "name": "python"
    },
    "accelerator": "TPU"
  },
  "cells": [
    {
      "cell_type": "code",
      "execution_count": 1,
      "metadata": {
        "id": "-EZuWYvbzf9n"
      },
      "outputs": [],
      "source": [
        "import os\n",
        "import zipfile\n",
        "import numpy as np\n",
        "import cv2 as cv\n",
        "from tensorflow.keras.models import Sequential\n",
        "from tensorflow.keras.layers import Conv2D, MaxPooling2D, Flatten, Dense, Activation, Dropout, BatchNormalization\n",
        "from tensorflow.keras.callbacks import ModelCheckpoint\n",
        "from tensorflow.keras.optimizers import Adam\n",
        "from tensorflow.keras.initializers import RandomNormal, Constant\n",
        "from tensorflow.keras.optimizers.schedules import ExponentialDecay\n",
        "from google.colab import drive"
      ]
    },
    {
      "cell_type": "code",
      "source": [
        "# Mount Google Drive\n",
        "drive.mount('/content/drive')\n"
      ],
      "metadata": {
        "colab": {
          "base_uri": "https://localhost:8080/"
        },
        "id": "_eO0VlHmz0e3",
        "outputId": "1c18ac1b-5b9a-4453-a32a-1757834369a3"
      },
      "execution_count": 2,
      "outputs": [
        {
          "output_type": "stream",
          "name": "stdout",
          "text": [
            "Mounted at /content/drive\n"
          ]
        }
      ]
    },
    {
      "cell_type": "code",
      "source": [
        "\n",
        "# Path to the zip file\n",
        "zip_path = '/content/drive/MyDrive/graduation model/Vegetable Images.zip'\n",
        "\n",
        "# Extract the zip file\n",
        "with zipfile.ZipFile(zip_path, 'r') as zip_ref:\n",
        "    zip_ref.extractall('/content/dataset')\n",
        "\n",
        "# Path to the dataset folder\n",
        "dataset_folder = '/content/dataset/Vegetable Images'"
      ],
      "metadata": {
        "id": "jla__CDjztcX"
      },
      "execution_count": 3,
      "outputs": []
    },
    {
      "cell_type": "code",
      "source": [
        "image_size = (128, 128)"
      ],
      "metadata": {
        "id": "s4a9JdZA1zXW"
      },
      "execution_count": 4,
      "outputs": []
    },
    {
      "cell_type": "code",
      "source": [
        "# Function to preprocess images\n",
        "def preprocess_image(image_path, target_size=(128, 128)):\n",
        "    image = cv.imread(image_path)\n",
        "    # Resize image to target size\n",
        "    image = cv.resize(image, target_size)\n",
        "    # Normalize pixel values to [0, 1]\n",
        "    image = image / 255.0\n",
        "    return image\n",
        "\n",
        "# Initialize lists to store images and labels\n",
        "train_images = []\n",
        "train_labels = []\n",
        "test_images = []\n",
        "test_labels = []"
      ],
      "metadata": {
        "id": "n04U2bNd0F_M"
      },
      "execution_count": 5,
      "outputs": []
    },
    {
      "cell_type": "code",
      "source": [
        "# Loop through train and test folders\n",
        "for split in ['train', 'test']:\n",
        "    split_path = os.path.join(dataset_folder, split)\n",
        "    vegetables_type = os.listdir(split_path)\n",
        "    for vtype in vegetables_type:\n",
        "        vegetable_path = os.path.join(split_path, vtype)\n",
        "        image_files = os.listdir(vegetable_path)\n",
        "        for image_file in image_files:\n",
        "            image_path = os.path.join(vegetable_path, image_file)\n",
        "            # Preprocess image\n",
        "            image = preprocess_image(image_path)\n",
        "            if split == 'train':\n",
        "                train_images.append(image)\n",
        "                train_labels.append(vtype)\n",
        "            else:\n",
        "                test_images.append(image)\n",
        "                test_labels.append(vtype)\n"
      ],
      "metadata": {
        "id": "bujcsjhW1IjZ"
      },
      "execution_count": 6,
      "outputs": []
    },
    {
      "cell_type": "code",
      "source": [
        "print(len(train_images))\n",
        "print(len(train_labels))\n",
        "print(len(test_images))\n",
        "print(len(test_labels))\n",
        "\n"
      ],
      "metadata": {
        "colab": {
          "base_uri": "https://localhost:8080/"
        },
        "id": "tGH1dS022B-u",
        "outputId": "b4381422-ce33-4159-9026-e533d51d2c8f"
      },
      "execution_count": 7,
      "outputs": [
        {
          "output_type": "stream",
          "name": "stdout",
          "text": [
            "15000\n",
            "15000\n",
            "3000\n",
            "3000\n"
          ]
        }
      ]
    },
    {
      "cell_type": "code",
      "source": [
        "# Convert lists to numpy arrays\n",
        "train_images = np.array(train_images)\n",
        "test_images = np.array(test_images)\n"
      ],
      "metadata": {
        "id": "J8fsy9Zj3Y_8"
      },
      "execution_count": 8,
      "outputs": []
    },
    {
      "cell_type": "code",
      "source": [
        "from sklearn.preprocessing import OneHotEncoder\n",
        "\n",
        "# One-hot encode the labels\n",
        "encoder = OneHotEncoder(sparse=False)\n",
        "train_labels_encoded = encoder.fit_transform([[label] for label in train_labels])\n",
        "test_labels_encoded = encoder.transform([[label] for label in test_labels])\n",
        "\n",
        "# Convert back to list if needed\n",
        "train_labels_encoded_list = train_labels_encoded.tolist()\n",
        "test_labels_encoded_list = test_labels_encoded.tolist()"
      ],
      "metadata": {
        "colab": {
          "base_uri": "https://localhost:8080/"
        },
        "id": "yy3GFP0h3fBW",
        "outputId": "dc51b990-c289-4847-aa92-842fb714dae8"
      },
      "execution_count": 9,
      "outputs": [
        {
          "output_type": "stream",
          "name": "stderr",
          "text": [
            "/usr/local/lib/python3.10/dist-packages/sklearn/preprocessing/_encoders.py:975: FutureWarning: `sparse` was renamed to `sparse_output` in version 1.2 and will be removed in 1.4. `sparse_output` is ignored unless you leave `sparse` to its default value.\n",
            "  warnings.warn(\n"
          ]
        }
      ]
    },
    {
      "cell_type": "code",
      "source": [
        "train_labels_encoded = np.array(train_labels_encoded)\n",
        "test_labels_encoded = np.array(test_labels_encoded)\n",
        "\n",
        "num_classes = len(train_labels_encoded)\n",
        "\n",
        "model_path = '/content/model.keras'\n",
        "checkpoint = ModelCheckpoint(\n",
        "    filepath=model_path,\n",
        "    monitor='val_accuracy',\n",
        "    verbose=32,\n",
        "    save_best_only=True\n",
        ")\n",
        "callbacks = [checkpoint]"
      ],
      "metadata": {
        "id": "J_GGxjMG6b-D"
      },
      "execution_count": 10,
      "outputs": []
    },
    {
      "cell_type": "code",
      "source": [
        "# Input shape and layer.\n",
        "input_shape = (128, 128, 3)\n",
        "model = Sequential()\n",
        "model.add(Conv2D(32, (3, 3), padding='same', input_shape=input_shape))\n",
        "model.add(MaxPooling2D(pool_size=(2,2)))\n",
        "model.add(Activation('relu'))\n",
        "model.add(Conv2D(64, (3, 3), padding='same'))\n",
        "model.add(MaxPooling2D(pool_size=(2,2)))\n",
        "\n",
        "\n",
        "\n",
        "model.add(Flatten())\n",
        "model.add(Dense(64))\n",
        "model.add(Activation('relu'))\n",
        "model.add(Dropout(0.2))\n",
        "model.add(BatchNormalization(momentum=0.95, epsilon=0.05,\n",
        "                             beta_initializer=RandomNormal(mean=0.0, stddev=0.05),\n",
        "                             gamma_initializer=Constant(value=0.9)))\n",
        "model.add(Dense(15, activation='softmax'))\n",
        "\n",
        "\n",
        "\n",
        "initial_learning_rate = 0.001\n",
        "lr_schedule = ExponentialDecay(initial_learning_rate, decay_steps=1000, decay_rate=0.9, staircase=True)\n",
        "import tensorflow as tf\n",
        "\n",
        "opt = tf.keras.optimizers.Adam(learning_rate=lr_schedule)\n",
        "model.compile(loss='categorical_crossentropy', optimizer=opt, metrics=['accuracy'])\n",
        "\n",
        "# Prints model summary\n",
        "model.summary()\n",
        "\n",
        "# Train the model using train_images and train_labels, and validate using test_images and test_labels\n",
        "history = model.fit(train_images, train_labels_encoded, epochs=20, validation_data=(test_images, test_labels_encoded), callbacks=callbacks)\n",
        "\n",
        "# Load best model weights from checkpoint and save results\n",
        "model.load_weights(model_path)\n",
        "res = model.evaluate(test_images, batch_size=32)\n",
        "# Prints results\n",
        "print(\"Results\")\n",
        "print(res)\n",
        "\n"
      ],
      "metadata": {
        "colab": {
          "base_uri": "https://localhost:8080/"
        },
        "id": "CpzruCUi-co3",
        "outputId": "e016383b-8b00-4f59-cf2b-4c0e85be096e"
      },
      "execution_count": 12,
      "outputs": [
        {
          "output_type": "stream",
          "name": "stdout",
          "text": [
            "Model: \"sequential_1\"\n",
            "_________________________________________________________________\n",
            " Layer (type)                Output Shape              Param #   \n",
            "=================================================================\n",
            " conv2d_2 (Conv2D)           (None, 128, 128, 32)      896       \n",
            "                                                                 \n",
            " max_pooling2d_2 (MaxPoolin  (None, 64, 64, 32)        0         \n",
            " g2D)                                                            \n",
            "                                                                 \n",
            " activation_2 (Activation)   (None, 64, 64, 32)        0         \n",
            "                                                                 \n",
            " conv2d_3 (Conv2D)           (None, 64, 64, 64)        18496     \n",
            "                                                                 \n",
            " max_pooling2d_3 (MaxPoolin  (None, 32, 32, 64)        0         \n",
            " g2D)                                                            \n",
            "                                                                 \n",
            " flatten_1 (Flatten)         (None, 65536)             0         \n",
            "                                                                 \n",
            " dense_2 (Dense)             (None, 64)                4194368   \n",
            "                                                                 \n",
            " activation_3 (Activation)   (None, 64)                0         \n",
            "                                                                 \n",
            " dropout_1 (Dropout)         (None, 64)                0         \n",
            "                                                                 \n",
            " batch_normalization_1 (Bat  (None, 64)                256       \n",
            " chNormalization)                                                \n",
            "                                                                 \n",
            " dense_3 (Dense)             (None, 15)                975       \n",
            "                                                                 \n",
            "=================================================================\n",
            "Total params: 4214991 (16.08 MB)\n",
            "Trainable params: 4214863 (16.08 MB)\n",
            "Non-trainable params: 128 (512.00 Byte)\n",
            "_________________________________________________________________\n",
            "Epoch 1/20\n",
            "469/469 [==============================] - ETA: 0s - loss: 1.3508 - accuracy: 0.5884\n",
            "Epoch 1: val_accuracy did not improve from 0.88367\n",
            "469/469 [==============================] - 42s 88ms/step - loss: 1.3508 - accuracy: 0.5884 - val_loss: 0.6830 - val_accuracy: 0.8203\n",
            "Epoch 2/20\n",
            "469/469 [==============================] - ETA: 0s - loss: 0.5357 - accuracy: 0.8493\n",
            "Epoch 2: val_accuracy did not improve from 0.88367\n",
            "469/469 [==============================] - 41s 86ms/step - loss: 0.5357 - accuracy: 0.8493 - val_loss: 0.4958 - val_accuracy: 0.8557\n",
            "Epoch 3/20\n",
            "469/469 [==============================] - ETA: 0s - loss: 0.2639 - accuracy: 0.9299\n",
            "Epoch 3: val_accuracy improved from 0.88367 to 0.91900, saving model to /content/model.keras\n",
            "469/469 [==============================] - 41s 87ms/step - loss: 0.2639 - accuracy: 0.9299 - val_loss: 0.2835 - val_accuracy: 0.9190\n",
            "Epoch 4/20\n",
            "469/469 [==============================] - ETA: 0s - loss: 0.1583 - accuracy: 0.9592\n",
            "Epoch 4: val_accuracy did not improve from 0.91900\n",
            "469/469 [==============================] - 40s 86ms/step - loss: 0.1583 - accuracy: 0.9592 - val_loss: 0.4419 - val_accuracy: 0.8710\n",
            "Epoch 5/20\n",
            "469/469 [==============================] - ETA: 0s - loss: 0.1195 - accuracy: 0.9669\n",
            "Epoch 5: val_accuracy improved from 0.91900 to 0.92433, saving model to /content/model.keras\n",
            "469/469 [==============================] - 41s 86ms/step - loss: 0.1195 - accuracy: 0.9669 - val_loss: 0.2419 - val_accuracy: 0.9243\n",
            "Epoch 6/20\n",
            "469/469 [==============================] - ETA: 0s - loss: 0.0814 - accuracy: 0.9784\n",
            "Epoch 6: val_accuracy improved from 0.92433 to 0.93233, saving model to /content/model.keras\n",
            "469/469 [==============================] - 41s 87ms/step - loss: 0.0814 - accuracy: 0.9784 - val_loss: 0.2122 - val_accuracy: 0.9323\n",
            "Epoch 7/20\n",
            "469/469 [==============================] - ETA: 0s - loss: 0.0605 - accuracy: 0.9848\n",
            "Epoch 7: val_accuracy did not improve from 0.93233\n",
            "469/469 [==============================] - 40s 86ms/step - loss: 0.0605 - accuracy: 0.9848 - val_loss: 0.2441 - val_accuracy: 0.9277\n",
            "Epoch 8/20\n",
            "469/469 [==============================] - ETA: 0s - loss: 0.0415 - accuracy: 0.9899\n",
            "Epoch 8: val_accuracy improved from 0.93233 to 0.93467, saving model to /content/model.keras\n",
            "469/469 [==============================] - 41s 87ms/step - loss: 0.0415 - accuracy: 0.9899 - val_loss: 0.2317 - val_accuracy: 0.9347\n",
            "Epoch 9/20\n",
            "469/469 [==============================] - ETA: 0s - loss: 0.0504 - accuracy: 0.9873\n",
            "Epoch 9: val_accuracy did not improve from 0.93467\n",
            "469/469 [==============================] - 40s 86ms/step - loss: 0.0504 - accuracy: 0.9873 - val_loss: 0.2266 - val_accuracy: 0.9337\n",
            "Epoch 10/20\n",
            "469/469 [==============================] - ETA: 0s - loss: 0.0424 - accuracy: 0.9891\n",
            "Epoch 10: val_accuracy did not improve from 0.93467\n",
            "469/469 [==============================] - 41s 87ms/step - loss: 0.0424 - accuracy: 0.9891 - val_loss: 0.2487 - val_accuracy: 0.9277\n",
            "Epoch 11/20\n",
            "469/469 [==============================] - ETA: 0s - loss: 0.0527 - accuracy: 0.9844\n",
            "Epoch 11: val_accuracy did not improve from 0.93467\n",
            "469/469 [==============================] - 41s 87ms/step - loss: 0.0527 - accuracy: 0.9844 - val_loss: 0.3295 - val_accuracy: 0.9000\n",
            "Epoch 12/20\n",
            "469/469 [==============================] - ETA: 0s - loss: 0.0342 - accuracy: 0.9913\n",
            "Epoch 12: val_accuracy did not improve from 0.93467\n",
            "469/469 [==============================] - 40s 86ms/step - loss: 0.0342 - accuracy: 0.9913 - val_loss: 0.2507 - val_accuracy: 0.9260\n",
            "Epoch 13/20\n",
            "469/469 [==============================] - ETA: 0s - loss: 0.0282 - accuracy: 0.9925\n",
            "Epoch 13: val_accuracy improved from 0.93467 to 0.93533, saving model to /content/model.keras\n",
            "469/469 [==============================] - 41s 87ms/step - loss: 0.0282 - accuracy: 0.9925 - val_loss: 0.2392 - val_accuracy: 0.9353\n",
            "Epoch 14/20\n",
            "469/469 [==============================] - ETA: 0s - loss: 0.0199 - accuracy: 0.9948\n",
            "Epoch 14: val_accuracy improved from 0.93533 to 0.94367, saving model to /content/model.keras\n",
            "469/469 [==============================] - 40s 86ms/step - loss: 0.0199 - accuracy: 0.9948 - val_loss: 0.1978 - val_accuracy: 0.9437\n",
            "Epoch 15/20\n",
            "469/469 [==============================] - ETA: 0s - loss: 0.0208 - accuracy: 0.9952\n",
            "Epoch 15: val_accuracy improved from 0.94367 to 0.94667, saving model to /content/model.keras\n",
            "469/469 [==============================] - 40s 86ms/step - loss: 0.0208 - accuracy: 0.9952 - val_loss: 0.1968 - val_accuracy: 0.9467\n",
            "Epoch 16/20\n",
            "469/469 [==============================] - ETA: 0s - loss: 0.0174 - accuracy: 0.9953\n",
            "Epoch 16: val_accuracy did not improve from 0.94667\n",
            "469/469 [==============================] - 41s 87ms/step - loss: 0.0174 - accuracy: 0.9953 - val_loss: 0.2217 - val_accuracy: 0.9373\n",
            "Epoch 17/20\n",
            "469/469 [==============================] - ETA: 0s - loss: 0.0209 - accuracy: 0.9941\n",
            "Epoch 17: val_accuracy did not improve from 0.94667\n",
            "469/469 [==============================] - 41s 87ms/step - loss: 0.0209 - accuracy: 0.9941 - val_loss: 0.2310 - val_accuracy: 0.9367\n",
            "Epoch 18/20\n",
            "469/469 [==============================] - ETA: 0s - loss: 0.0233 - accuracy: 0.9937\n",
            "Epoch 18: val_accuracy did not improve from 0.94667\n",
            "469/469 [==============================] - 41s 88ms/step - loss: 0.0233 - accuracy: 0.9937 - val_loss: 0.2402 - val_accuracy: 0.9373\n",
            "Epoch 19/20\n",
            "469/469 [==============================] - ETA: 0s - loss: 0.0159 - accuracy: 0.9955\n",
            "Epoch 19: val_accuracy did not improve from 0.94667\n",
            "469/469 [==============================] - 41s 87ms/step - loss: 0.0159 - accuracy: 0.9955 - val_loss: 0.2080 - val_accuracy: 0.9463\n",
            "Epoch 20/20\n",
            "469/469 [==============================] - ETA: 0s - loss: 0.0160 - accuracy: 0.9961\n",
            "Epoch 20: val_accuracy did not improve from 0.94667\n",
            "469/469 [==============================] - 41s 88ms/step - loss: 0.0160 - accuracy: 0.9961 - val_loss: 0.2255 - val_accuracy: 0.9387\n",
            "94/94 [==============================] - 0s 1ms/step - loss: 0.0000e+00 - accuracy: 0.0000e+00\n",
            "Results\n",
            "[0.0, 0.0]\n"
          ]
        }
      ]
    },
    {
      "cell_type": "code",
      "source": [
        "from sklearn.metrics import confusion_matrix, classification_report\n",
        "import seaborn as sns\n",
        "import matplotlib.pyplot as plt\n",
        "\n",
        "# Predict on the validation set\n",
        "y_pred = model.predict(test_images)\n",
        "y_pred_classes = np.argmax(y_pred, axis=1)\n",
        "\n",
        "# Assuming test_labels_encoded is one-hot encoded, convert it to class labels\n",
        "y_true = np.argmax(test_labels_encoded, axis=1)\n",
        "\n",
        "# Generate confusion matrix\n",
        "conf_matrix = confusion_matrix(y_true, y_pred_classes)\n",
        "\n",
        "# Plot the confusion matrix\n",
        "plt.figure(figsize=(10, 8))\n",
        "sns.heatmap(conf_matrix, annot=True, fmt='d', cmap='Blues')\n",
        "plt.xlabel('Predicted')\n",
        "plt.ylabel('True')\n",
        "plt.title('Confusion Matrix')\n",
        "plt.show()\n",
        "\n",
        "# Print classification report\n",
        "print(classification_report(y_true, y_pred_classes))"
      ],
      "metadata": {
        "colab": {
          "base_uri": "https://localhost:8080/",
          "height": 1000
        },
        "id": "7Bhg4csKAdxA",
        "outputId": "6898cfc7-72b3-4630-ef83-3b42f5195268"
      },
      "execution_count": 16,
      "outputs": [
        {
          "output_type": "stream",
          "name": "stdout",
          "text": [
            "94/94 [==============================] - 2s 24ms/step\n"
          ]
        },
        {
          "output_type": "display_data",
          "data": {
            "text/plain": [
              "<Figure size 1000x800 with 2 Axes>"
            ],
            "image/png": "[encoded data removed]"
          },
          "metadata": {}
        },
        {
          "output_type": "stream",
          "name": "stdout",
          "text": [
            "              precision    recall  f1-score   support\n",
            "\n",
            "           0       0.91      0.94      0.92       200\n",
            "           1       0.94      0.97      0.96       200\n",
            "           2       0.94      0.98      0.96       200\n",
            "           3       0.94      0.90      0.92       200\n",
            "           4       0.94      0.96      0.95       200\n",
            "           5       0.88      0.92      0.90       200\n",
            "           6       1.00      0.97      0.99       200\n",
            "           7       0.98      1.00      0.99       200\n",
            "           8       0.96      0.88      0.92       200\n",
            "           9       0.96      0.93      0.95       200\n",
            "          10       0.96      0.96      0.96       200\n",
            "          11       0.97      0.98      0.98       200\n",
            "          12       0.94      0.94      0.94       200\n",
            "          13       0.95      0.99      0.97       200\n",
            "          14       0.94      0.86      0.90       200\n",
            "\n",
            "    accuracy                           0.95      3000\n",
            "   macro avg       0.95      0.95      0.95      3000\n",
            "weighted avg       0.95      0.95      0.95      3000\n",
            "\n"
          ]
        }
      ]
    },
    {
      "cell_type": "code",
      "source": [],
      "metadata": {
        "id": "-J58qOHdJdU-"
      },
      "execution_count": null,
      "outputs": []
    }
  ]
}